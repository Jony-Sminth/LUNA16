{
 "cells": [
  {
   "cell_type": "markdown",
   "metadata": {},
   "source": [
    "# Transform Chain 详细教程\n",
    "\n",
    "本教程将介绍如何构建和使用Transform链进行数据处理。我们将从基础概念开始，逐步深入到实际应用。"
   ]
  },
  {
   "cell_type": "markdown",
   "metadata": {},
   "source": [
    "## 第一部分：基础概念和简单示例\n",
    "\n",
    "首先，我们需要导入必要的库并创建测试数据来演示Transform链的基本用法。"
   ]
  },
  {
   "cell_type": "code",
   "execution_count": 1,
   "metadata": {},
   "outputs": [
    {
     "name": "stdout",
     "output_type": "stream",
     "text": [
      "原始数据:\n",
      "tensor([[-1000.,  -500.,     0.],\n",
      "        [  500.,   800.,  1000.]])\n",
      "\n",
      "数据形状: torch.Size([2, 3])\n",
      "数据类型: torch.float32\n"
     ]
    }
   ],
   "source": [
    "import torch\n",
    "import numpy as np\n",
    "\n",
    "# 创建测试数据\n",
    "test_data = torch.tensor([\n",
    "    [-1000., -500., 0.],\n",
    "    [500., 800., 1000.]\n",
    "])\n",
    "\n",
    "print(\"原始数据:\")\n",
    "print(test_data)\n",
    "print(\"\\n数据形状:\", test_data.shape)\n",
    "print(\"数据类型:\", test_data.dtype)"
   ]
  },
  {
   "cell_type": "markdown",
   "metadata": {},
   "source": [
    "### 3. 最简单的数据处理\n",
    "\n",
    "在开始使用Transform链之前，让我们先看看最基本的数据处理方式。这有助于理解Transform链的优势。"
   ]
  },
  {
   "cell_type": "markdown",
   "metadata": {},
   "source": [
    " 3.1 直接处理方式"
   ]
  },
  {
   "cell_type": "code",
   "execution_count": 2,
   "metadata": {},
   "outputs": [
    {
     "name": "stdout",
     "output_type": "stream",
     "text": [
      "直接处理的结果:\n",
      "tensor([[-2000., -1000.,     0.],\n",
      "        [ 1000.,  1600.,  2000.]])\n"
     ]
    }
   ],
   "source": [
    "processed_data = test_data * 2\n",
    "print(\"直接处理的结果:\")\n",
    "print(processed_data)"
   ]
  },
  {
   "cell_type": "markdown",
   "metadata": {},
   "source": [
    " 3.2 使用函数处理"
   ]
  },
  {
   "cell_type": "code",
   "execution_count": 3,
   "metadata": {},
   "outputs": [
    {
     "name": "stdout",
     "output_type": "stream",
     "text": [
      "\n",
      "使用函数处理的结果:\n",
      "tensor([[-2000., -1000.,     0.],\n",
      "        [ 1000.,  1600.,  2000.]])\n"
     ]
    }
   ],
   "source": [
    "def simple_process(x):\n",
    "    return x * 2\n",
    "\n",
    "processed_data = simple_process(test_data)\n",
    "print(\"\\n使用函数处理的结果:\")\n",
    "print(processed_data)"
   ]
  },
  {
   "cell_type": "markdown",
   "metadata": {},
   "source": [
    " 3.3 带参数的函数处理"
   ]
  },
  {
   "cell_type": "code",
   "execution_count": 4,
   "metadata": {},
   "outputs": [
    {
     "name": "stdout",
     "output_type": "stream",
     "text": [
      "\n",
      "使用带参数函数处理的结果:\n",
      "tensor([[-2000., -1000.,     0.],\n",
      "        [ 1000.,  1600.,  2000.]])\n"
     ]
    }
   ],
   "source": [
    "def parameterized_process(x, factor):\n",
    "    return x * factor\n",
    "\n",
    "processed_data = parameterized_process(test_data, 2)\n",
    "print(\"\\n使用带参数函数处理的结果:\")\n",
    "print(processed_data)"
   ]
  },
  {
   "cell_type": "markdown",
   "metadata": {},
   "source": [
    "## 第二部分：Transform构建器\n",
    "\n",
    "接下来，我们将定义基础的TransformBuilder类，这是实现Transform链的核心组件。"
   ]
  },
  {
   "cell_type": "code",
   "execution_count": 5,
   "metadata": {},
   "outputs": [],
   "source": [
    "class TransformBuilder:\n",
    "    \"\"\"Transform构建器：用于构建数据处理链\"\"\"\n",
    "    def __init__(self):\n",
    "        self.transforms = []  # 存储所有处理函数\n",
    "        \n",
    "    def add_custom(self, func, name: str):\n",
    "        \"\"\"\n",
    "        添加自定义处理函数\n",
    "        Args:\n",
    "            func: 处理函数，必须接受一个参数并返回处理结果\n",
    "            name: 函数名称，用于标识\n",
    "        \"\"\"\n",
    "        self.transforms.append((name, func))\n",
    "        return self  # 返回self支持链式调用\n",
    "        \n",
    "    def build(self):\n",
    "        \"\"\"构建最终的处理函数\"\"\"\n",
    "        def transform(x):\n",
    "            for name, func in self.transforms:\n",
    "                x = func(x)\n",
    "            return x\n",
    "        return transform"
   ]
  },
  {
   "cell_type": "markdown",
   "metadata": {},
   "source": [
    "### 基础示例\n",
    "\n",
    "让我们从最简单的Transform链开始，观察它如何组合多个处理步骤。"
   ]
  },
  {
   "cell_type": "code",
   "execution_count": 6,
   "metadata": {},
   "outputs": [
    {
     "name": "stdout",
     "output_type": "stream",
     "text": [
      "tensor([[-1000.,  -500.,     0.],\n",
      "        [  500.,   800.,  1000.]])\n",
      "使用Transform链处理的结果:\n",
      "tensor([[-1.9990e+03, -9.9900e+02,  1.0000e+00],\n",
      "        [ 1.0010e+03,  1.6010e+03,  2.0010e+03]])\n"
     ]
    }
   ],
   "source": [
    "# 创建简单的transform链\n",
    "builder = TransformBuilder()\n",
    "transform = builder\\\n",
    "    .add_custom(lambda x: x * 2, \"double\")\\\n",
    "    .add_custom(lambda x: x + 1, \"plus_one\")\\\n",
    "    .build()\n",
    "print(test_data)\n",
    "result = transform(test_data)\n",
    "print(\"使用Transform链处理的结果:\")\n",
    "print(result)"
   ]
  },
  {
   "cell_type": "markdown",
   "metadata": {},
   "source": [
    "数学运算链示例"
   ]
  },
  {
   "cell_type": "code",
   "execution_count": 7,
   "metadata": {},
   "outputs": [
    {
     "name": "stdout",
     "output_type": "stream",
     "text": [
      "tensor([1., 2., 3., 4., 5.])\n"
     ]
    }
   ],
   "source": [
    "def add_value(value=1):\n",
    "    \"\"\"加法运算\"\"\"\n",
    "    def add_func(x):\n",
    "        return x + value\n",
    "    return add_func\n",
    "\n",
    "def multiply_value(value=2):\n",
    "    \"\"\"乘法运算\"\"\"\n",
    "    def multiply_func(x):\n",
    "        return x * value\n",
    "    return multiply_func\n",
    "# 创建测试数据\n",
    "test_data = torch.tensor([1, 2, 3, 4, 5], dtype=torch.float32)\n",
    "print(test_data)"
   ]
  },
  {
   "cell_type": "markdown",
   "metadata": {},
   "source": [
    "构建数学运算链"
   ]
  },
  {
   "cell_type": "code",
   "execution_count": 8,
   "metadata": {},
   "outputs": [
    {
     "name": "stdout",
     "output_type": "stream",
     "text": [
      "数学运算结果:\n",
      "原始数据: tensor([1., 2., 3., 4., 5.])\n",
      "处理后: tensor([23., 25., 27., 29., 31.])\n"
     ]
    }
   ],
   "source": [
    "math_transform = TransformBuilder()\\\n",
    "    .add_custom(add_value(10), \"加10\")\\\n",
    "    .add_custom(multiply_value(2), \"乘2\")\\\n",
    "    .add_custom(add_value(1), \"加3\")\\\n",
    "    .build()\n",
    "\n",
    "result = math_transform(test_data)\n",
    "print(\"数学运算结果:\")\n",
    "print(f\"原始数据: {test_data}\")\n",
    "print(f\"处理后: {result}\")"
   ]
  },
  {
   "cell_type": "markdown",
   "metadata": {},
   "source": [
    "简单数据处理链"
   ]
  },
  {
   "cell_type": "code",
   "execution_count": 9,
   "metadata": {},
   "outputs": [
    {
     "name": "stdout",
     "output_type": "stream",
     "text": [
      "tensor([ 1.2300,  5.6700,  8.9100, 12.3400, -3.4500])\n"
     ]
    }
   ],
   "source": [
    "def round_numbers(decimals=0):\n",
    "    \"\"\"四舍五入\"\"\"\n",
    "    def round_func(x):\n",
    "        return torch.round(x * (10 ** decimals)) / (10 ** decimals)\n",
    "    return round_func\n",
    "\n",
    "def set_range(min_val=0, max_val=10):\n",
    "    \"\"\"限定数值范围\"\"\"\n",
    "    def range_func(x):\n",
    "        return torch.clamp(x, min_val, max_val)\n",
    "    return range_func\n",
    "\n",
    "# 创建测试数据\n",
    "test_data = torch.tensor([1.23, 5.67, 8.91, 12.34, -3.45])\n",
    "print(test_data)"
   ]
  },
  {
   "cell_type": "markdown",
   "metadata": {},
   "source": [
    "构建数据处理链"
   ]
  },
  {
   "cell_type": "code",
   "execution_count": 10,
   "metadata": {},
   "outputs": [
    {
     "name": "stdout",
     "output_type": "stream",
     "text": [
      "\n",
      "数据处理结果:\n",
      "原始数据: tensor([ 1.2300,  5.6700,  8.9100, 12.3400, -3.4500])\n",
      "处理后: tensor([ 1.2000,  5.7000,  8.9000, 10.0000,  0.0000])\n"
     ]
    }
   ],
   "source": [
    "process_transform = TransformBuilder()\\\n",
    "    .add_custom(round_numbers(1), \"保留1位小数\")\\\n",
    "    .add_custom(set_range(0, 10), \"限制范围0-10\")\\\n",
    "    .build()\n",
    "\n",
    "result = process_transform(test_data)\n",
    "print(\"\\n数据处理结果:\")\n",
    "print(f\"原始数据: {test_data}\")\n",
    "print(f\"处理后: {result}\")"
   ]
  },
  {
   "cell_type": "markdown",
   "metadata": {},
   "source": [
    "实用工具函数"
   ]
  },
  {
   "cell_type": "code",
   "execution_count": 11,
   "metadata": {},
   "outputs": [],
   "source": [
    "def print_steps(transform_chain, data):\n",
    "    \"\"\"打印每一步的处理结果\"\"\"\n",
    "    print(\"\\n逐步处理过程:\")\n",
    "    x = data\n",
    "    print(f\"输入数据: {x}\")\n",
    "    \n",
    "    for name, func in transform_chain.transforms:\n",
    "        x = func(x)\n",
    "        print(f\"{name}: {x}\")\n",
    "    \n",
    "    return x"
   ]
  },
  {
   "cell_type": "markdown",
   "metadata": {},
   "source": [
    "创建一个简单的处理链"
   ]
  },
  {
   "cell_type": "code",
   "execution_count": 12,
   "metadata": {},
   "outputs": [],
   "source": [
    "demo_builder = TransformBuilder()\\\n",
    "    .add_custom(add_value(5), \"加5\")\\\n",
    "    .add_custom(multiply_value(2), \"乘2\")\\\n",
    "    .add_custom(round_numbers(1), \"保留1位小数\")"
   ]
  },
  {
   "cell_type": "markdown",
   "metadata": {},
   "source": [
    "测试数据"
   ]
  },
  {
   "cell_type": "code",
   "execution_count": 13,
   "metadata": {},
   "outputs": [
    {
     "name": "stdout",
     "output_type": "stream",
     "text": [
      "tensor([1.2000, 3.4000, 5.6000])\n"
     ]
    }
   ],
   "source": [
    "demo_data = torch.tensor([1.2, 3.4, 5.6])\n",
    "print(demo_data)"
   ]
  },
  {
   "cell_type": "markdown",
   "metadata": {},
   "source": [
    "查看处理过程"
   ]
  },
  {
   "cell_type": "code",
   "execution_count": 14,
   "metadata": {},
   "outputs": [
    {
     "name": "stdout",
     "output_type": "stream",
     "text": [
      "\n",
      "逐步处理过程:\n",
      "输入数据: tensor([1.2000, 3.4000, 5.6000])\n",
      "加5: tensor([ 6.2000,  8.4000, 10.6000])\n",
      "乘2: tensor([12.4000, 16.8000, 21.2000])\n",
      "保留1位小数: tensor([12.4000, 16.8000, 21.2000])\n"
     ]
    },
    {
     "data": {
      "text/plain": [
       "tensor([12.4000, 16.8000, 21.2000])"
      ]
     },
     "execution_count": 14,
     "metadata": {},
     "output_type": "execute_result"
    }
   ],
   "source": [
    "print_steps(demo_builder, demo_data)"
   ]
  },
  {
   "cell_type": "markdown",
   "metadata": {},
   "source": [
    "如果需要最终的转换函数，可以在这里构建"
   ]
  },
  {
   "cell_type": "code",
   "execution_count": 15,
   "metadata": {},
   "outputs": [
    {
     "name": "stdout",
     "output_type": "stream",
     "text": [
      "<function TransformBuilder.build.<locals>.transform at 0x000001B71FCE0940>\n"
     ]
    }
   ],
   "source": [
    "demo_transform = demo_builder.build()\n",
    "print(demo_transform)"
   ]
  },
  {
   "cell_type": "markdown",
   "metadata": {},
   "source": [
    "## 第三部分：实际应用\n",
    "\n",
    "在实际应用中，我们需要一些更实用的处理函数。这些函数通常需要参数来控制处理效果。"
   ]
  },
  {
   "cell_type": "code",
   "execution_count": 16,
   "metadata": {},
   "outputs": [],
   "source": [
    "def normalize(min_val=-1000.0, max_val=1000.0):\n",
    "    \"\"\"归一化函数：将数据映射到[-1,1]范围\"\"\"\n",
    "    def normalize_func(x):\n",
    "        return (x - min_val) / (max_val - min_val) * 2 - 1\n",
    "    return normalize_func\n",
    "\n",
    "def window(center=40, width=400):\n",
    "    \"\"\"窗位窗宽处理：用于突出特定范围的数据\"\"\"\n",
    "    def window_func(x):\n",
    "        min_val = center - width/2\n",
    "        max_val = center + width/2\n",
    "        return torch.clamp(x, min_val, max_val)\n",
    "    return window_func\n",
    "\n",
    "def enhance_contrast(factor=1.5):\n",
    "    \"\"\"对比度增强：通过拉伸数据范围来增强对比度\"\"\"\n",
    "    def contrast_func(x):\n",
    "        mean = x.mean()\n",
    "        return torch.clamp((x - mean) * factor + mean, -1, 1)\n",
    "    return contrast_func"
   ]
  },
  {
   "cell_type": "markdown",
   "metadata": {},
   "source": [
    "### 7. 创建完整的处理链\n",
    "\n",
    "现在我们可以组合这些处理函数，创建一个完整的处理流程。"
   ]
  },
  {
   "cell_type": "code",
   "execution_count": 17,
   "metadata": {},
   "outputs": [
    {
     "name": "stdout",
     "output_type": "stream",
     "text": [
      "基础处理链结果:\n",
      "tensor([ 0.0012,  0.0057,  0.0089,  0.0123, -0.0035])\n",
      "\n",
      "增强处理链结果:\n",
      "tensor([-0.0006,  0.0060,  0.0109,  0.0160, -0.0076])\n"
     ]
    }
   ],
   "source": [
    "# 7.1 基础处理链\n",
    "transform_basic = TransformBuilder()\\\n",
    "    .add_custom(normalize(), \"normalize\")\\\n",
    "    .add_custom(window(), \"window\")\\\n",
    "    .build()\n",
    "\n",
    "result_basic = transform_basic(test_data)\n",
    "print(\"基础处理链结果:\")\n",
    "print(result_basic)\n",
    "\n",
    "# 7.2 添加对比度增强\n",
    "transform_enhanced = TransformBuilder()\\\n",
    "    .add_custom(normalize(), \"normalize\")\\\n",
    "    .add_custom(window(), \"window\")\\\n",
    "    .add_custom(enhance_contrast(), \"contrast\")\\\n",
    "    .build()\n",
    "\n",
    "result_enhanced = transform_enhanced(test_data)\n",
    "print(\"\\n增强处理链结果:\")\n",
    "print(result_enhanced)"
   ]
  },
  {
   "cell_type": "markdown",
   "metadata": {},
   "source": [
    "## 第四部分：进阶应用\n",
    "\n",
    "在实际应用中，我们可能需要根据不同情况动态选择使用哪些处理步骤。"
   ]
  },
  {
   "cell_type": "code",
   "execution_count": 18,
   "metadata": {},
   "outputs": [
    {
     "name": "stdout",
     "output_type": "stream",
     "text": [
      "\n",
      "仅归一化结果:\n",
      "tensor([ 0.0012,  0.0057,  0.0089,  0.0123, -0.0035])\n",
      "\n",
      "归一化+窗口结果:\n",
      "tensor([ 0.0012,  0.0057,  0.0089,  0.0123, -0.0035])\n",
      "\n",
      "完整处理结果:\n",
      "tensor([-0.0006,  0.0060,  0.0109,  0.0160, -0.0076])\n"
     ]
    }
   ],
   "source": [
    "def build_dynamic_transform(need_normalize=True, \n",
    "                          need_window=True,\n",
    "                          need_contrast=False,\n",
    "                          contrast_factor=1.5):\n",
    "    \"\"\"动态构建处理链：根据参数决定使用哪些处理步骤\"\"\"\n",
    "    builder = TransformBuilder()\n",
    "    \n",
    "    if need_normalize:\n",
    "        builder.add_custom(normalize(), \"normalize\")\n",
    "    \n",
    "    if need_window:\n",
    "        builder.add_custom(window(), \"window\")\n",
    "        \n",
    "    if need_contrast:\n",
    "        builder.add_custom(enhance_contrast(contrast_factor), \"contrast\")\n",
    "        \n",
    "    return builder.build()\n",
    "\n",
    "# 测试不同组合\n",
    "transforms = {\n",
    "    \"仅归一化\": build_dynamic_transform(need_window=False, need_contrast=False),\n",
    "    \"归一化+窗口\": build_dynamic_transform(need_contrast=False),\n",
    "    \"完整处理\": build_dynamic_transform(need_contrast=True),\n",
    "}\n",
    "\n",
    "for name, transform in transforms.items():\n",
    "    result = transform(test_data)\n",
    "    print(f\"\\n{name}结果:\")\n",
    "    print(result)"
   ]
  },
  {
   "cell_type": "markdown",
   "metadata": {},
   "source": [
    "## 第五部分：实践练习\n",
    "\n",
    "### 9. 练习：创建自定义处理函数\n",
    "\n",
    "尝试创建你自己的处理函数并添加到处理链中。注意以下要点：\n",
    "1. 函数应该只接受一个输入参数\n",
    "2. 函数应该返回处理后的结果\n",
    "3. 注意数据类型的一致性"
   ]
  },
  {
   "cell_type": "code",
   "execution_count": 19,
   "metadata": {},
   "outputs": [
    {
     "name": "stdout",
     "output_type": "stream",
     "text": [
      "自定义处理结果:\n",
      "tensor([ 0.0012,  0.0057,  0.0089,  0.0123, -0.0034])\n"
     ]
    }
   ],
   "source": [
    "def custom_process(x):\n",
    "    # 对数变换示例\n",
    "    return torch.log(torch.abs(x) + 1) * torch.sign(x)\n",
    "\n",
    "# 将自定义函数添加到处理链\n",
    "transform_custom = TransformBuilder()\\\n",
    "    .add_custom(normalize(), \"normalize\")\\\n",
    "    .add_custom(custom_process, \"custom\")\\\n",
    "    .build()\n",
    "\n",
    "result_custom = transform_custom(test_data)\n",
    "print(\"自定义处理结果:\")\n",
    "print(result_custom)"
   ]
  },
  {
   "cell_type": "markdown",
   "metadata": {},
   "source": [
    "### 10. 完整示例：处理CT数据\n",
    "\n",
    "这个示例展示了如何处理实际的CT数据，包括完整的预处理流程。"
   ]
  },
  {
   "cell_type": "code",
   "execution_count": 20,
   "metadata": {},
   "outputs": [
    {
     "name": "stdout",
     "output_type": "stream",
     "text": [
      "CT数据处理结果:\n",
      "tensor([-0.0006,  0.0060,  0.0109,  0.0160, -0.0076])\n"
     ]
    }
   ],
   "source": [
    "def process_ct_data(data, window_center=40, window_width=400, contrast_factor=1.5):\n",
    "    \"\"\"完整的CT数据处理流程\"\"\"\n",
    "    transform = TransformBuilder()\\\n",
    "        .add_custom(normalize(), \"normalize\")\\\n",
    "        .add_custom(window(window_center, window_width), \"window\")\\\n",
    "        .add_custom(enhance_contrast(contrast_factor), \"contrast\")\\\n",
    "        .build()\n",
    "        \n",
    "    return transform(data)\n",
    "\n",
    "# 使用示例\n",
    "processed_ct = process_ct_data(test_data)\n",
    "print(\"CT数据处理结果:\")\n",
    "print(processed_ct)"
   ]
  },
  {
   "cell_type": "markdown",
   "metadata": {},
   "source": [
    "## 总结\n",
    "\n",
    "本教程介绍了Transform链的基本概念和用法。我们还展示了如何构建Transform链，并使用了一些实际应用中的例子。最后，我们还介绍了如何动态构建Transform链，并展示了如何处理实际的CT数据。\n",
    "\n",
    "Transform链是一个强大的工具，可以帮助我们处理复杂的数据。它可以帮助我们对数据进行预处理、数据增强、数据转换等操作，从而提升模型的性能。"
   ]
  }
 ],
 "metadata": {
  "kernelspec": {
   "display_name": "python_309",
   "language": "python",
   "name": "envname"
  },
  "language_info": {
   "codemirror_mode": {
    "name": "ipython",
    "version": 3
   },
   "file_extension": ".py",
   "mimetype": "text/x-python",
   "name": "python",
   "nbconvert_exporter": "python",
   "pygments_lexer": "ipython3",
   "version": "3.9.19"
  }
 },
 "nbformat": 4,
 "nbformat_minor": 4
}
